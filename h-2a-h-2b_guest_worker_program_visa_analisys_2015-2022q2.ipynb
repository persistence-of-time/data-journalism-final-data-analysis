{
 "cells": [
  {
   "cell_type": "markdown",
   "id": "c6b869f1",
   "metadata": {},
   "source": [
    "# H-2A & H-2B Guest Worker Program 2015-2022 Q2\n"
   ]
  },
  {
   "cell_type": "markdown",
   "id": "c5d3630e",
   "metadata": {},
   "source": [
    "What I am interested in these datasets is the number of visas certified for the guest worker program in the US from 2015 to 2022. The compilation of data starts with the most current year and will go backwards to get a historical perspective.\n",
    "\n",
    "There are 18 individual data sets to work from. They will be combined and aggregated to get the total numbers for each year. \n",
    "\n",
    "Fiscal year 2022 does not end until september 30 and the total numbers for this year will not be published until the end of the year. For now we are only using the data from the first two quarters since it's what is available from the Department of Labor. \n",
    "\n"
   ]
  },
  {
   "cell_type": "code",
   "execution_count": null,
   "id": "3402fd1b",
   "metadata": {},
   "outputs": [],
   "source": [
    "import pandas as pd"
   ]
  },
  {
   "cell_type": "markdown",
   "id": "9f1be147",
   "metadata": {},
   "source": [
    "## 2022 (current year)\n",
    "### H-2A \n",
    "I'm startig by analysing the current year, and working my way backwards to the other years. "
   ]
  },
  {
   "cell_type": "code",
   "execution_count": null,
   "id": "ff580eb1",
   "metadata": {},
   "outputs": [],
   "source": [
    "# These are the first two quarters of data available from the department of labor for\n",
    "# the year 2022\n",
    "\n",
    "\n",
    "h2a_22_q1 = pd.read_excel (\"data/H-2A_Disclosure_Data_FY2022_Q1.xlsx\")"
   ]
  },
  {
   "cell_type": "code",
   "execution_count": null,
   "id": "29d558b8",
   "metadata": {},
   "outputs": [],
   "source": [
    "h2a_22_q1.info()"
   ]
  },
  {
   "cell_type": "code",
   "execution_count": null,
   "id": "f59dcc40",
   "metadata": {},
   "outputs": [],
   "source": [
    "h2a_22_q2 = pd.read_excel (\"data/H-2A_Disclosure_Data_FY2022_Q2.xlsx\")\n",
    "\n",
    "h2a_22_q2.info()"
   ]
  },
  {
   "cell_type": "code",
   "execution_count": null,
   "id": "042ed5bf",
   "metadata": {},
   "outputs": [],
   "source": [
    "# Let's combine them \n",
    "h2a_22 = [h2a_22_q1, h2a_22_q2]\n",
    "\n",
    "h2a_2022 = pd.concat(h2a_22)\n",
    "\n",
    "h2a_2022.info()"
   ]
  },
  {
   "cell_type": "code",
   "execution_count": null,
   "id": "df12d990",
   "metadata": {},
   "outputs": [],
   "source": [
    "2995+12326"
   ]
  },
  {
   "cell_type": "code",
   "execution_count": null,
   "id": "e59beeaf",
   "metadata": {
    "scrolled": true
   },
   "outputs": [],
   "source": [
    "h2a_2022.head(5)"
   ]
  },
  {
   "cell_type": "code",
   "execution_count": null,
   "id": "4e9f6084",
   "metadata": {
    "scrolled": true
   },
   "outputs": [],
   "source": [
    "# I need the three columns with the number of visas needed, requested and certified for the year so far.\n",
    "# Removing all other columns and only keeping the three that I need.\n",
    "\n",
    "h2a_cols_to_keep = ['TOTAL_WORKERS_NEEDED','TOTAL_WORKERS_H2A_REQUESTED', 'TOTAL_WORKERS_H2A_CERTIFIED']\n",
    "\n",
    "h2a_cols_to_keep"
   ]
  },
  {
   "cell_type": "code",
   "execution_count": null,
   "id": "f45f0b4d",
   "metadata": {},
   "outputs": [],
   "source": [
    "#Isolating the columns\n",
    "\n",
    "h2a_2022 = h2a_2022.reindex(h2a_cols_to_keep, axis=1)"
   ]
  },
  {
   "cell_type": "code",
   "execution_count": null,
   "id": "2d80cb12",
   "metadata": {
    "scrolled": true
   },
   "outputs": [],
   "source": [
    "h2a_2022.info()\n"
   ]
  },
  {
   "cell_type": "markdown",
   "id": "f6b6e599",
   "metadata": {},
   "source": [
    "### H-2A Totals for 2022 (so far)\n",
    "These are the total numbers of visas requested and certified for 2022 so far. The first two quarters of data were\n",
    "combined in order to get the numbers so far."
   ]
  },
  {
   "cell_type": "code",
   "execution_count": null,
   "id": "d9fdbbf0",
   "metadata": {
    "scrolled": false
   },
   "outputs": [],
   "source": [
    "#RENAIMING COLUMNS\n",
    "\n",
    "h2a_2022 = h2a_2022.rename(columns={\"TOTAL_WORKERS_NEEDED\": \"H-2A_WORKERS_NEEDED\"})\n",
    "h2a_2022 = h2a_2022.rename(columns={\"TOTAL_WORKERS_H2A_REQUESTED\": \"H-2A_WORKERS_REQUESTED\"})\n",
    "h2a_2022 = h2a_2022.rename(columns={\"TOTAL_WORKERS_H2A_CERTIFIED\": \"H-2A_WORKERS_CERTIFIED\"})\n",
    "\n",
    "#adding year:\n",
    "\n",
    "h2a_2022.insert(loc=0, column=\"YEAR\", value=\"2022\")\n",
    "\n",
    "\n",
    "h2a_2022.sum(axis=0)"
   ]
  },
  {
   "cell_type": "code",
   "execution_count": null,
   "id": "dcfe1113",
   "metadata": {},
   "outputs": [],
   "source": [
    "h2a_2022.sample(10)"
   ]
  },
  {
   "cell_type": "code",
   "execution_count": null,
   "id": "2f9e3983",
   "metadata": {},
   "outputs": [],
   "source": []
  },
  {
   "cell_type": "markdown",
   "id": "942290d7",
   "metadata": {},
   "source": [
    "## H-2B\n",
    "\n",
    "As reported in the first and second quarter of data published by the Department of Labor."
   ]
  },
  {
   "cell_type": "code",
   "execution_count": null,
   "id": "ad7d135c",
   "metadata": {},
   "outputs": [],
   "source": [
    "df_h2b_q1 = pd.read_excel (\"data/H-2B_Disclosure_Data_FY2022_Q1.xlsx\")\n",
    "df_h2b_q2 = pd.read_excel (\"data/H-2B_Disclosure_Data_FY2022_Q2.xlsx\")\n",
    "\n"
   ]
  },
  {
   "cell_type": "code",
   "execution_count": null,
   "id": "2ef5f4b1",
   "metadata": {},
   "outputs": [],
   "source": [
    "# Let's combine them \n",
    "h2b_2022 = [df_h2b_q1, df_h2b_q2]\n",
    "\n",
    "h2b_2022 = pd.concat(h2b_2022)\n",
    "\n",
    "h2b_2022.info()"
   ]
  },
  {
   "cell_type": "code",
   "execution_count": null,
   "id": "6ad794ee",
   "metadata": {
    "scrolled": true
   },
   "outputs": [],
   "source": [
    "h2b_2022.head(10)"
   ]
  },
  {
   "cell_type": "code",
   "execution_count": null,
   "id": "8d07c9c6",
   "metadata": {},
   "outputs": [],
   "source": [
    "# I need only two columns for this dataset. It does not have a \"needed\" column for some reason like the h2a dataset had.\n",
    "\n",
    "h2b_cols_to_keep = ['TOTAL_WORKERS_REQUESTED', 'TOTAL_WORKERS_CERTIFIED']\n",
    "\n",
    "h2b_cols_to_keep"
   ]
  },
  {
   "cell_type": "code",
   "execution_count": null,
   "id": "a5979228",
   "metadata": {},
   "outputs": [],
   "source": [
    "#Isolating the 2 columns that I need:\n",
    "\n",
    "h2b_2022 = h2b_2022.reindex(h2b_cols_to_keep, axis=1)\n",
    "\n",
    "h2b_2022"
   ]
  },
  {
   "cell_type": "markdown",
   "id": "d72d9cc0",
   "metadata": {},
   "source": [
    "### H-2B Totals so far for 2022\n",
    "These are the total numbers of visas requested and certified for 2022 so far. The first two quarters of data were combined in order to get the numbers so far."
   ]
  },
  {
   "cell_type": "code",
   "execution_count": null,
   "id": "98f5005f",
   "metadata": {},
   "outputs": [],
   "source": [
    "#RENAMING COLUMNS\n",
    "\n",
    "h2b_2022 = h2b_2022.rename(columns={\"TOTAL_WORKERS_REQUESTED\": \"H-2B_WORKERS_REQUESTED\"})\n",
    "h2b_2022 = h2b_2022.rename(columns={\"TOTAL_WORKERS_CERTIFIED\": \"H-2B_WORKERS_CERTIFIED\"})\n",
    "\n",
    "#adding year:\n",
    "\n",
    "h2b_2022.insert(loc=0, column=\"YEAR\", value=\"2022\")\n",
    "\n",
    "\n",
    "h2b_2022.sum(axis=0)"
   ]
  },
  {
   "cell_type": "code",
   "execution_count": null,
   "id": "719a6f87",
   "metadata": {},
   "outputs": [],
   "source": [
    "h2b_2022.sample(10)"
   ]
  },
  {
   "cell_type": "markdown",
   "id": "c48fed74",
   "metadata": {},
   "source": [
    "# 2021"
   ]
  },
  {
   "cell_type": "markdown",
   "id": "47d04d9c",
   "metadata": {},
   "source": [
    "## H-2A"
   ]
  },
  {
   "cell_type": "code",
   "execution_count": null,
   "id": "d61255ac",
   "metadata": {},
   "outputs": [],
   "source": [
    "h2a_2021 = pd.read_excel (\"data/H-2A_Disclosure_Data_FY2021.xlsx\")\n"
   ]
  },
  {
   "cell_type": "code",
   "execution_count": null,
   "id": "72be662d",
   "metadata": {},
   "outputs": [],
   "source": [
    "h2a_2021.head(3)"
   ]
  },
  {
   "cell_type": "code",
   "execution_count": null,
   "id": "cee476a4",
   "metadata": {},
   "outputs": [],
   "source": [
    "h2a_2021_cols_to_keep = ['TOTAL_WORKERS_NEEDED','TOTAL_WORKERS_H2A_REQUESTED', 'TOTAL_WORKERS_H2A_CERTIFIED']\n",
    "\n",
    "h2a_2021_cols_to_keep"
   ]
  },
  {
   "cell_type": "code",
   "execution_count": null,
   "id": "7cbb597d",
   "metadata": {},
   "outputs": [],
   "source": [
    "#Isolating the columns\n",
    "h2a_2021 = h2a_2021.reindex(h2a_2021_cols_to_keep, axis=1)\n",
    "\n",
    "h2a_2021.info()"
   ]
  },
  {
   "cell_type": "code",
   "execution_count": null,
   "id": "743e376c",
   "metadata": {},
   "outputs": [],
   "source": [
    "h2a_2021['TOTAL_WORKERS_H2A_CERTIFIED'] = h2a_2021['TOTAL_WORKERS_H2A_CERTIFIED'].fillna(0).astype(int)"
   ]
  },
  {
   "cell_type": "code",
   "execution_count": null,
   "id": "824f7bd7",
   "metadata": {},
   "outputs": [],
   "source": [
    "h2a_2021.sample(5)"
   ]
  },
  {
   "cell_type": "markdown",
   "id": "44206ca7",
   "metadata": {},
   "source": [
    "### 2021 H-2A Total Numbers\n",
    "These are the total number of visas needed, requested, and certified for the year 2021."
   ]
  },
  {
   "cell_type": "code",
   "execution_count": null,
   "id": "65c8ad0b",
   "metadata": {},
   "outputs": [],
   "source": [
    "#RENAIMING COLUMNS\n",
    "\n",
    "h2a_2021 = h2a_2021.rename(columns={\"TOTAL_WORKERS_NEEDED\": \"H-2A_WORKERS_NEEDED\"})\n",
    "h2a_2021 = h2a_2021.rename(columns={\"TOTAL_WORKERS_H2A_REQUESTED\": \"H-2A_WORKERS_REQUESTED\"})\n",
    "h2a_2021 = h2a_2021.rename(columns={\"TOTAL_WORKERS_H2A_CERTIFIED\": \"H-2A_WORKERS_CERTIFIED\"})\n",
    "\n",
    "#adding year:\n",
    "\n",
    "h2a_2021.insert(loc=0, column=\"YEAR\", value=\"2021\")\n",
    "\n",
    "\n",
    "h2a_2021.sum(axis=0)"
   ]
  },
  {
   "cell_type": "code",
   "execution_count": null,
   "id": "579491e2",
   "metadata": {},
   "outputs": [],
   "source": [
    "h2a_2021.info()"
   ]
  },
  {
   "cell_type": "markdown",
   "id": "b76b5dd0",
   "metadata": {},
   "source": [
    "## H-2B"
   ]
  },
  {
   "cell_type": "code",
   "execution_count": null,
   "id": "54603813",
   "metadata": {},
   "outputs": [],
   "source": [
    "h2b_2021 = pd.read_excel (\"data/H-2B_Disclosure_Data_FY2021.xlsx\")\n",
    "h2b_2021.head(5)\n"
   ]
  },
  {
   "cell_type": "code",
   "execution_count": null,
   "id": "f7f61958",
   "metadata": {},
   "outputs": [],
   "source": [
    "h2b_2021_cols_to_keep = ['TOTAL_WORKERS_REQUESTED', 'TOTAL_WORKERS_CERTIFIED']\n",
    "\n",
    "h2b_2021_cols_to_keep"
   ]
  },
  {
   "cell_type": "code",
   "execution_count": null,
   "id": "6be499be",
   "metadata": {},
   "outputs": [],
   "source": [
    "#Isolating the columns\n",
    "h2b_2021 = h2b_2021.reindex(h2b_2021_cols_to_keep, axis=1)\n",
    "\n",
    "h2b_2021.info()"
   ]
  },
  {
   "cell_type": "code",
   "execution_count": null,
   "id": "164fc6b6",
   "metadata": {},
   "outputs": [],
   "source": [
    "# Converting float to int.\n",
    "\n",
    "h2b_2021['TOTAL_WORKERS_CERTIFIED'] = h2b_2021['TOTAL_WORKERS_CERTIFIED'].fillna(0).astype(int)\n",
    "\n",
    "h2b_2021.head(5)"
   ]
  },
  {
   "cell_type": "markdown",
   "id": "b31c2d10",
   "metadata": {},
   "source": [
    "### 2021 H-2B Total Numbers\n",
    "These are the total number of visas needed, requested, and certified for the year 2021."
   ]
  },
  {
   "cell_type": "code",
   "execution_count": null,
   "id": "d812d485",
   "metadata": {},
   "outputs": [],
   "source": [
    "#RENAIMING COLUMNS\n",
    "\n",
    "h2b_2021 = h2b_2021.rename(columns={\"TOTAL_WORKERS_REQUESTED\": \"H-2B_WORKERS_REQUESTED\"})\n",
    "h2b_2021 = h2b_2021.rename(columns={\"TOTAL_WORKERS_CERTIFIED\": \"H-2B_WORKERS_CERTIFIED\"})\n",
    "\n",
    "#adding year:\n",
    "\n",
    "h2b_2021.insert(loc=0, column=\"YEAR\", value=\"2021\")\n",
    "\n",
    "h2b_2021.sum(axis=0)"
   ]
  },
  {
   "cell_type": "markdown",
   "id": "7dab904d",
   "metadata": {},
   "source": [
    " # 2020"
   ]
  },
  {
   "cell_type": "markdown",
   "id": "7cfb762c",
   "metadata": {},
   "source": [
    "## H-2A & H-2B Visas\n",
    "Attempting to do these data sets at once... let see if we can."
   ]
  },
  {
   "cell_type": "code",
   "execution_count": null,
   "id": "3052ab0c",
   "metadata": {},
   "outputs": [],
   "source": [
    "h2a_2020 = pd.read_excel (\"data/H-2A_Disclosure_Data_FY2020.xlsx\")\n",
    "h2b_2020 = pd.read_excel (\"data/H-2B_Disclosure_Data_FY2020.xlsx\")"
   ]
  },
  {
   "cell_type": "code",
   "execution_count": null,
   "id": "753c106d",
   "metadata": {},
   "outputs": [],
   "source": [
    "h2a_2020_cols_to_keep = ['TOTAL_WORKERS_NEEDED','TOTAL_WORKERS_H2A_REQUESTED', 'TOTAL_WORKERS_H2A_CERTIFIED']\n",
    "\n",
    "h2a_2020 = h2a_2020.reindex(h2a_2020_cols_to_keep, axis=1)\n",
    "\n",
    "h2a_2020.info()\n"
   ]
  },
  {
   "cell_type": "code",
   "execution_count": null,
   "id": "ccad103a",
   "metadata": {
    "scrolled": true
   },
   "outputs": [],
   "source": [
    "h2a_2020.sample(5)"
   ]
  },
  {
   "cell_type": "code",
   "execution_count": null,
   "id": "26b45186",
   "metadata": {},
   "outputs": [],
   "source": [
    "# Converting float to int 1st column to run calculations:\n",
    "h2a_2020['TOTAL_WORKERS_NEEDED'] = h2a_2020['TOTAL_WORKERS_NEEDED'].fillna(0).astype(int)\n",
    "\n",
    "# Converting float to int 2st column:\n",
    "h2a_2020['TOTAL_WORKERS_H2A_CERTIFIED'] = h2a_2020['TOTAL_WORKERS_H2A_CERTIFIED'].fillna(0).astype(int)\n",
    "\n",
    "h2a_2020.head(5)"
   ]
  },
  {
   "cell_type": "markdown",
   "id": "539ad711",
   "metadata": {},
   "source": [
    "### 2020 H-2A Total Numbers\n",
    "These are the total number of visas needed, requested, and certified for the year 2020."
   ]
  },
  {
   "cell_type": "code",
   "execution_count": null,
   "id": "ccf875cc",
   "metadata": {},
   "outputs": [],
   "source": [
    "#RENAIMING COLUMNS\n",
    "\n",
    "h2a_2020 = h2a_2020.rename(columns={\"TOTAL_WORKERS_NEEDED\": \"H-2A_WORKERS_NEEDED\"})\n",
    "h2a_2020 = h2a_2020.rename(columns={\"TOTAL_WORKERS_H2A_REQUESTED\": \"H-2A_WORKERS_REQUESTED\"})\n",
    "h2a_2020 = h2a_2020.rename(columns={\"TOTAL_WORKERS_H2A_CERTIFIED\": \"H-2A_WORKERS_CERTIFIED\"})\n",
    "\n",
    "#adding year:\n",
    "\n",
    "h2a_2020.insert(loc=0, column=\"YEAR\", value=\"2020\")\n",
    "\n",
    "h2a_2020.sum(axis=0)"
   ]
  },
  {
   "cell_type": "markdown",
   "id": "5d805beb",
   "metadata": {},
   "source": [
    "## H-2B"
   ]
  },
  {
   "cell_type": "code",
   "execution_count": null,
   "id": "9e1ebb68",
   "metadata": {
    "scrolled": true
   },
   "outputs": [],
   "source": [
    "\n",
    "h2b_2020_cols_to_keep = ['TOTAL_WORKERS_REQUESTED', 'TOTAL_WORKERS_CERTIFIED']\n",
    "h2b_2020 = h2b_2020.reindex(h2b_2020_cols_to_keep, axis=1)\n",
    "\n",
    "h2b_2020.info()"
   ]
  },
  {
   "cell_type": "code",
   "execution_count": null,
   "id": "25b3f10e",
   "metadata": {},
   "outputs": [],
   "source": [
    "# Converting float to int 1st column::\n",
    "h2b_2020['TOTAL_WORKERS_CERTIFIED'] = h2b_2020['TOTAL_WORKERS_CERTIFIED'].fillna(0).astype(int)"
   ]
  },
  {
   "cell_type": "markdown",
   "id": "ef207fe9",
   "metadata": {},
   "source": [
    "### 2020 H-2B Total Numbers\n",
    "These are the total number of visas requested, and certified for the year 2020."
   ]
  },
  {
   "cell_type": "code",
   "execution_count": null,
   "id": "d35e3c4e",
   "metadata": {
    "scrolled": false
   },
   "outputs": [],
   "source": [
    "#RENAIMING COLUMNS\n",
    "\n",
    "h2b_2020 = h2b_2020.rename(columns={\"TOTAL_WORKERS_REQUESTED\": \"H-2B_WORKERS_REQUESTED\"})\n",
    "h2b_2020 = h2b_2020.rename(columns={\"TOTAL_WORKERS_CERTIFIED\": \"H-2B_WORKERS_CERTIFIED\"})\n",
    "\n",
    "#adding year:\n",
    "\n",
    "h2b_2020.insert(loc=0, column=\"YEAR\", value=\"2020\")\n",
    "\n",
    "h2b_2020.sum(axis=0)"
   ]
  },
  {
   "cell_type": "code",
   "execution_count": null,
   "id": "9d34245a",
   "metadata": {},
   "outputs": [],
   "source": [
    "h2b_2020.head(5)"
   ]
  },
  {
   "cell_type": "markdown",
   "id": "028948f5",
   "metadata": {},
   "source": [
    "## Combining the years 2022 to 2020\n",
    "Let's see if we can combine all the numbers from 2020 to 2022.\n",
    "\n",
    "2020 was the year  when there was a change in the way that data was collected. The DOL added a new column called \"Workers Needed\" for H-2A workers.  I will add this column to the H-2B workers data sets so the columns match and they can be combined seamlessly. For the missing data I will add a “0” so I can do arithmetic later on. \n",
    "\n",
    " By the end of this section we'll have a giant table with all the numbers... hopefully.\n"
   ]
  },
  {
   "cell_type": "code",
   "execution_count": 73,
   "id": "295cbff1",
   "metadata": {},
   "outputs": [],
   "source": [
    "#H2a concat:\n",
    "\n",
    "h2a_2020to2022 = pd.concat([h2a_2020, h2a_2021, h2a_2022], ignore_index=True)\n",
    "\n",
    "#H2b concat:\n",
    "\n",
    "h2b_2020to2022 = pd.concat([h2b_2020, h2b_2021, h2b_2022], ignore_index=True)"
   ]
  },
  {
   "cell_type": "code",
   "execution_count": 74,
   "id": "6c49842d",
   "metadata": {},
   "outputs": [
    {
     "data": {
      "text/html": [
       "<div>\n",
       "<style scoped>\n",
       "    .dataframe tbody tr th:only-of-type {\n",
       "        vertical-align: middle;\n",
       "    }\n",
       "\n",
       "    .dataframe tbody tr th {\n",
       "        vertical-align: top;\n",
       "    }\n",
       "\n",
       "    .dataframe thead th {\n",
       "        text-align: right;\n",
       "    }\n",
       "</style>\n",
       "<table border=\"1\" class=\"dataframe\">\n",
       "  <thead>\n",
       "    <tr style=\"text-align: right;\">\n",
       "      <th></th>\n",
       "      <th>H-2A_WORKERS_CERTIFIED</th>\n",
       "      <th>H-2A_WORKERS_NEEDED</th>\n",
       "      <th>H-2A_WORKERS_REQUESTED</th>\n",
       "    </tr>\n",
       "    <tr>\n",
       "      <th>YEAR</th>\n",
       "      <th></th>\n",
       "      <th></th>\n",
       "      <th></th>\n",
       "    </tr>\n",
       "  </thead>\n",
       "  <tbody>\n",
       "    <tr>\n",
       "      <th>2020</th>\n",
       "      <td>275430</td>\n",
       "      <td>314028</td>\n",
       "      <td>286749</td>\n",
       "    </tr>\n",
       "    <tr>\n",
       "      <th>2021</th>\n",
       "      <td>317619</td>\n",
       "      <td>411339</td>\n",
       "      <td>330486</td>\n",
       "    </tr>\n",
       "    <tr>\n",
       "      <th>2022</th>\n",
       "      <td>244880</td>\n",
       "      <td>310835</td>\n",
       "      <td>254466</td>\n",
       "    </tr>\n",
       "  </tbody>\n",
       "</table>\n",
       "</div>"
      ],
      "text/plain": [
       "      H-2A_WORKERS_CERTIFIED  H-2A_WORKERS_NEEDED  H-2A_WORKERS_REQUESTED\n",
       "YEAR                                                                     \n",
       "2020                  275430               314028                  286749\n",
       "2021                  317619               411339                  330486\n",
       "2022                  244880               310835                  254466"
      ]
     },
     "execution_count": 74,
     "metadata": {},
     "output_type": "execute_result"
    }
   ],
   "source": [
    "pivot0 = pd.pivot_table(h2a_2020to2022, index= \"YEAR\", aggfunc=\"sum\")\n",
    "\n",
    "pivot0"
   ]
  },
  {
   "cell_type": "code",
   "execution_count": 75,
   "id": "8fa3df02",
   "metadata": {},
   "outputs": [
    {
     "data": {
      "text/html": [
       "<div>\n",
       "<style scoped>\n",
       "    .dataframe tbody tr th:only-of-type {\n",
       "        vertical-align: middle;\n",
       "    }\n",
       "\n",
       "    .dataframe tbody tr th {\n",
       "        vertical-align: top;\n",
       "    }\n",
       "\n",
       "    .dataframe thead th {\n",
       "        text-align: right;\n",
       "    }\n",
       "</style>\n",
       "<table border=\"1\" class=\"dataframe\">\n",
       "  <thead>\n",
       "    <tr style=\"text-align: right;\">\n",
       "      <th></th>\n",
       "      <th>H-2B_WORKERS_CERTIFIED</th>\n",
       "      <th>H-2B_WORKERS_REQUESTED</th>\n",
       "    </tr>\n",
       "    <tr>\n",
       "      <th>YEAR</th>\n",
       "      <th></th>\n",
       "      <th></th>\n",
       "    </tr>\n",
       "  </thead>\n",
       "  <tbody>\n",
       "    <tr>\n",
       "      <th>2020</th>\n",
       "      <td>160557</td>\n",
       "      <td>188564</td>\n",
       "    </tr>\n",
       "    <tr>\n",
       "      <th>2021</th>\n",
       "      <td>181451</td>\n",
       "      <td>206011</td>\n",
       "    </tr>\n",
       "    <tr>\n",
       "      <th>2022</th>\n",
       "      <td>132686</td>\n",
       "      <td>164821</td>\n",
       "    </tr>\n",
       "  </tbody>\n",
       "</table>\n",
       "</div>"
      ],
      "text/plain": [
       "      H-2B_WORKERS_CERTIFIED  H-2B_WORKERS_REQUESTED\n",
       "YEAR                                                \n",
       "2020                  160557                  188564\n",
       "2021                  181451                  206011\n",
       "2022                  132686                  164821"
      ]
     },
     "execution_count": 75,
     "metadata": {},
     "output_type": "execute_result"
    }
   ],
   "source": [
    "pivot0 = pd.pivot_table(h2b_2020to2022, index= \"YEAR\", aggfunc=\"sum\")\n",
    "\n",
    "pivot0"
   ]
  },
  {
   "cell_type": "code",
   "execution_count": 76,
   "id": "bf151e13",
   "metadata": {},
   "outputs": [],
   "source": [
    "# Going to add a column to see if we can merge the h2a and h2b data sets.\n",
    "\n",
    "h2b_2020to2022.insert(loc=1, column=\"H-2A_WORKERS_NEEDED\", value=\"0\")\n"
   ]
  },
  {
   "cell_type": "code",
   "execution_count": 77,
   "id": "44f30596",
   "metadata": {},
   "outputs": [
    {
     "data": {
      "text/html": [
       "<div>\n",
       "<style scoped>\n",
       "    .dataframe tbody tr th:only-of-type {\n",
       "        vertical-align: middle;\n",
       "    }\n",
       "\n",
       "    .dataframe tbody tr th {\n",
       "        vertical-align: top;\n",
       "    }\n",
       "\n",
       "    .dataframe thead th {\n",
       "        text-align: right;\n",
       "    }\n",
       "</style>\n",
       "<table border=\"1\" class=\"dataframe\">\n",
       "  <thead>\n",
       "    <tr style=\"text-align: right;\">\n",
       "      <th></th>\n",
       "      <th>YEAR</th>\n",
       "      <th>H-2A_WORKERS_NEEDED</th>\n",
       "      <th>H-2B_WORKERS_REQUESTED</th>\n",
       "      <th>H-2B_WORKERS_CERTIFIED</th>\n",
       "    </tr>\n",
       "  </thead>\n",
       "  <tbody>\n",
       "    <tr>\n",
       "      <th>0</th>\n",
       "      <td>2020</td>\n",
       "      <td>0</td>\n",
       "      <td>6</td>\n",
       "      <td>6</td>\n",
       "    </tr>\n",
       "    <tr>\n",
       "      <th>1</th>\n",
       "      <td>2020</td>\n",
       "      <td>0</td>\n",
       "      <td>40</td>\n",
       "      <td>40</td>\n",
       "    </tr>\n",
       "    <tr>\n",
       "      <th>2</th>\n",
       "      <td>2020</td>\n",
       "      <td>0</td>\n",
       "      <td>10</td>\n",
       "      <td>10</td>\n",
       "    </tr>\n",
       "    <tr>\n",
       "      <th>3</th>\n",
       "      <td>2020</td>\n",
       "      <td>0</td>\n",
       "      <td>48</td>\n",
       "      <td>48</td>\n",
       "    </tr>\n",
       "    <tr>\n",
       "      <th>4</th>\n",
       "      <td>2020</td>\n",
       "      <td>0</td>\n",
       "      <td>6</td>\n",
       "      <td>6</td>\n",
       "    </tr>\n",
       "    <tr>\n",
       "      <th>...</th>\n",
       "      <td>...</td>\n",
       "      <td>...</td>\n",
       "      <td>...</td>\n",
       "      <td>...</td>\n",
       "    </tr>\n",
       "    <tr>\n",
       "      <th>27552</th>\n",
       "      <td>2022</td>\n",
       "      <td>0</td>\n",
       "      <td>20</td>\n",
       "      <td>20</td>\n",
       "    </tr>\n",
       "    <tr>\n",
       "      <th>27553</th>\n",
       "      <td>2022</td>\n",
       "      <td>0</td>\n",
       "      <td>6</td>\n",
       "      <td>6</td>\n",
       "    </tr>\n",
       "    <tr>\n",
       "      <th>27554</th>\n",
       "      <td>2022</td>\n",
       "      <td>0</td>\n",
       "      <td>30</td>\n",
       "      <td>30</td>\n",
       "    </tr>\n",
       "    <tr>\n",
       "      <th>27555</th>\n",
       "      <td>2022</td>\n",
       "      <td>0</td>\n",
       "      <td>20</td>\n",
       "      <td>20</td>\n",
       "    </tr>\n",
       "    <tr>\n",
       "      <th>27556</th>\n",
       "      <td>2022</td>\n",
       "      <td>0</td>\n",
       "      <td>10</td>\n",
       "      <td>0</td>\n",
       "    </tr>\n",
       "  </tbody>\n",
       "</table>\n",
       "<p>27557 rows × 4 columns</p>\n",
       "</div>"
      ],
      "text/plain": [
       "       YEAR H-2A_WORKERS_NEEDED  H-2B_WORKERS_REQUESTED  \\\n",
       "0      2020                   0                       6   \n",
       "1      2020                   0                      40   \n",
       "2      2020                   0                      10   \n",
       "3      2020                   0                      48   \n",
       "4      2020                   0                       6   \n",
       "...     ...                 ...                     ...   \n",
       "27552  2022                   0                      20   \n",
       "27553  2022                   0                       6   \n",
       "27554  2022                   0                      30   \n",
       "27555  2022                   0                      20   \n",
       "27556  2022                   0                      10   \n",
       "\n",
       "       H-2B_WORKERS_CERTIFIED  \n",
       "0                           6  \n",
       "1                          40  \n",
       "2                          10  \n",
       "3                          48  \n",
       "4                           6  \n",
       "...                       ...  \n",
       "27552                      20  \n",
       "27553                       6  \n",
       "27554                      30  \n",
       "27555                      20  \n",
       "27556                       0  \n",
       "\n",
       "[27557 rows x 4 columns]"
      ]
     },
     "execution_count": 77,
     "metadata": {},
     "output_type": "execute_result"
    }
   ],
   "source": [
    "h2b_2020to2022"
   ]
  },
  {
   "cell_type": "code",
   "execution_count": 78,
   "id": "e2490337",
   "metadata": {
    "scrolled": true
   },
   "outputs": [
    {
     "data": {
      "text/html": [
       "<div>\n",
       "<style scoped>\n",
       "    .dataframe tbody tr th:only-of-type {\n",
       "        vertical-align: middle;\n",
       "    }\n",
       "\n",
       "    .dataframe tbody tr th {\n",
       "        vertical-align: top;\n",
       "    }\n",
       "\n",
       "    .dataframe thead th {\n",
       "        text-align: right;\n",
       "    }\n",
       "</style>\n",
       "<table border=\"1\" class=\"dataframe\">\n",
       "  <thead>\n",
       "    <tr style=\"text-align: right;\">\n",
       "      <th></th>\n",
       "      <th>YEAR</th>\n",
       "      <th>H-2A_WORKERS_NEEDED</th>\n",
       "      <th>H-2A_WORKERS_REQUESTED</th>\n",
       "      <th>H-2A_WORKERS_CERTIFIED</th>\n",
       "      <th>H-2B_WORKERS_REQUESTED</th>\n",
       "      <th>H-2B_WORKERS_CERTIFIED</th>\n",
       "    </tr>\n",
       "  </thead>\n",
       "  <tbody>\n",
       "    <tr>\n",
       "      <th>0</th>\n",
       "      <td>2020</td>\n",
       "      <td>14</td>\n",
       "      <td>14.0</td>\n",
       "      <td>14.0</td>\n",
       "      <td>NaN</td>\n",
       "      <td>NaN</td>\n",
       "    </tr>\n",
       "    <tr>\n",
       "      <th>1</th>\n",
       "      <td>2020</td>\n",
       "      <td>1</td>\n",
       "      <td>1.0</td>\n",
       "      <td>1.0</td>\n",
       "      <td>NaN</td>\n",
       "      <td>NaN</td>\n",
       "    </tr>\n",
       "    <tr>\n",
       "      <th>2</th>\n",
       "      <td>2020</td>\n",
       "      <td>3</td>\n",
       "      <td>3.0</td>\n",
       "      <td>3.0</td>\n",
       "      <td>NaN</td>\n",
       "      <td>NaN</td>\n",
       "    </tr>\n",
       "    <tr>\n",
       "      <th>3</th>\n",
       "      <td>2020</td>\n",
       "      <td>2</td>\n",
       "      <td>2.0</td>\n",
       "      <td>2.0</td>\n",
       "      <td>NaN</td>\n",
       "      <td>NaN</td>\n",
       "    </tr>\n",
       "    <tr>\n",
       "      <th>4</th>\n",
       "      <td>2020</td>\n",
       "      <td>2</td>\n",
       "      <td>2.0</td>\n",
       "      <td>0.0</td>\n",
       "      <td>NaN</td>\n",
       "      <td>NaN</td>\n",
       "    </tr>\n",
       "    <tr>\n",
       "      <th>...</th>\n",
       "      <td>...</td>\n",
       "      <td>...</td>\n",
       "      <td>...</td>\n",
       "      <td>...</td>\n",
       "      <td>...</td>\n",
       "      <td>...</td>\n",
       "    </tr>\n",
       "    <tr>\n",
       "      <th>73270</th>\n",
       "      <td>2022</td>\n",
       "      <td>0</td>\n",
       "      <td>NaN</td>\n",
       "      <td>NaN</td>\n",
       "      <td>20.0</td>\n",
       "      <td>20.0</td>\n",
       "    </tr>\n",
       "    <tr>\n",
       "      <th>73271</th>\n",
       "      <td>2022</td>\n",
       "      <td>0</td>\n",
       "      <td>NaN</td>\n",
       "      <td>NaN</td>\n",
       "      <td>6.0</td>\n",
       "      <td>6.0</td>\n",
       "    </tr>\n",
       "    <tr>\n",
       "      <th>73272</th>\n",
       "      <td>2022</td>\n",
       "      <td>0</td>\n",
       "      <td>NaN</td>\n",
       "      <td>NaN</td>\n",
       "      <td>30.0</td>\n",
       "      <td>30.0</td>\n",
       "    </tr>\n",
       "    <tr>\n",
       "      <th>73273</th>\n",
       "      <td>2022</td>\n",
       "      <td>0</td>\n",
       "      <td>NaN</td>\n",
       "      <td>NaN</td>\n",
       "      <td>20.0</td>\n",
       "      <td>20.0</td>\n",
       "    </tr>\n",
       "    <tr>\n",
       "      <th>73274</th>\n",
       "      <td>2022</td>\n",
       "      <td>0</td>\n",
       "      <td>NaN</td>\n",
       "      <td>NaN</td>\n",
       "      <td>10.0</td>\n",
       "      <td>0.0</td>\n",
       "    </tr>\n",
       "  </tbody>\n",
       "</table>\n",
       "<p>73275 rows × 6 columns</p>\n",
       "</div>"
      ],
      "text/plain": [
       "       YEAR H-2A_WORKERS_NEEDED  H-2A_WORKERS_REQUESTED  \\\n",
       "0      2020                  14                    14.0   \n",
       "1      2020                   1                     1.0   \n",
       "2      2020                   3                     3.0   \n",
       "3      2020                   2                     2.0   \n",
       "4      2020                   2                     2.0   \n",
       "...     ...                 ...                     ...   \n",
       "73270  2022                   0                     NaN   \n",
       "73271  2022                   0                     NaN   \n",
       "73272  2022                   0                     NaN   \n",
       "73273  2022                   0                     NaN   \n",
       "73274  2022                   0                     NaN   \n",
       "\n",
       "       H-2A_WORKERS_CERTIFIED  H-2B_WORKERS_REQUESTED  H-2B_WORKERS_CERTIFIED  \n",
       "0                        14.0                     NaN                     NaN  \n",
       "1                         1.0                     NaN                     NaN  \n",
       "2                         3.0                     NaN                     NaN  \n",
       "3                         2.0                     NaN                     NaN  \n",
       "4                         0.0                     NaN                     NaN  \n",
       "...                       ...                     ...                     ...  \n",
       "73270                     NaN                    20.0                    20.0  \n",
       "73271                     NaN                     6.0                     6.0  \n",
       "73272                     NaN                    30.0                    30.0  \n",
       "73273                     NaN                    20.0                    20.0  \n",
       "73274                     NaN                    10.0                     0.0  \n",
       "\n",
       "[73275 rows x 6 columns]"
      ]
     },
     "execution_count": 78,
     "metadata": {},
     "output_type": "execute_result"
    }
   ],
   "source": [
    "#Lets combine both types of visas here:\n",
    "\n",
    "h2ab_2020to2022 = pd.concat([h2a_2020to2022, h2b_2020to2022], ignore_index=True)\n",
    "\n",
    "h2ab_2020to2022\n"
   ]
  },
  {
   "cell_type": "code",
   "execution_count": 79,
   "id": "191b5493",
   "metadata": {
    "scrolled": true
   },
   "outputs": [
    {
     "data": {
      "text/html": [
       "<div>\n",
       "<style scoped>\n",
       "    .dataframe tbody tr th:only-of-type {\n",
       "        vertical-align: middle;\n",
       "    }\n",
       "\n",
       "    .dataframe tbody tr th {\n",
       "        vertical-align: top;\n",
       "    }\n",
       "\n",
       "    .dataframe thead th {\n",
       "        text-align: right;\n",
       "    }\n",
       "</style>\n",
       "<table border=\"1\" class=\"dataframe\">\n",
       "  <thead>\n",
       "    <tr style=\"text-align: right;\">\n",
       "      <th></th>\n",
       "      <th>H-2A_WORKERS_CERTIFIED</th>\n",
       "      <th>H-2A_WORKERS_REQUESTED</th>\n",
       "      <th>H-2B_WORKERS_CERTIFIED</th>\n",
       "      <th>H-2B_WORKERS_REQUESTED</th>\n",
       "    </tr>\n",
       "    <tr>\n",
       "      <th>YEAR</th>\n",
       "      <th></th>\n",
       "      <th></th>\n",
       "      <th></th>\n",
       "      <th></th>\n",
       "    </tr>\n",
       "  </thead>\n",
       "  <tbody>\n",
       "    <tr>\n",
       "      <th>2020</th>\n",
       "      <td>275430.0</td>\n",
       "      <td>286749.0</td>\n",
       "      <td>160557.0</td>\n",
       "      <td>188564.0</td>\n",
       "    </tr>\n",
       "    <tr>\n",
       "      <th>2021</th>\n",
       "      <td>317619.0</td>\n",
       "      <td>330486.0</td>\n",
       "      <td>181451.0</td>\n",
       "      <td>206011.0</td>\n",
       "    </tr>\n",
       "    <tr>\n",
       "      <th>2022</th>\n",
       "      <td>244880.0</td>\n",
       "      <td>254466.0</td>\n",
       "      <td>132686.0</td>\n",
       "      <td>164821.0</td>\n",
       "    </tr>\n",
       "  </tbody>\n",
       "</table>\n",
       "</div>"
      ],
      "text/plain": [
       "      H-2A_WORKERS_CERTIFIED  H-2A_WORKERS_REQUESTED  H-2B_WORKERS_CERTIFIED  \\\n",
       "YEAR                                                                           \n",
       "2020                275430.0                286749.0                160557.0   \n",
       "2021                317619.0                330486.0                181451.0   \n",
       "2022                244880.0                254466.0                132686.0   \n",
       "\n",
       "      H-2B_WORKERS_REQUESTED  \n",
       "YEAR                          \n",
       "2020                188564.0  \n",
       "2021                206011.0  \n",
       "2022                164821.0  "
      ]
     },
     "execution_count": 79,
     "metadata": {},
     "output_type": "execute_result"
    }
   ],
   "source": [
    "pivot3 = pd.pivot_table(h2ab_2020to2022, index= \"YEAR\", aggfunc=\"sum\")\n",
    "\n",
    "pivot3"
   ]
  },
  {
   "cell_type": "markdown",
   "id": "8655a518",
   "metadata": {},
   "source": [
    "Worked out fine. We ended up with some floats in the process but this works to run the math later on. We'll catch the formatting later. "
   ]
  },
  {
   "cell_type": "markdown",
   "id": "988b11c7",
   "metadata": {},
   "source": [
    "## 2019, 2018, 2017, 2016, 2015\n",
    "\n",
    "Now that I know more or less what to do to pull the data necessary. I'm going to try and do this for all of the remaining years in a little steps as possible with what I know so far.\n"
   ]
  },
  {
   "cell_type": "code",
   "execution_count": 80,
   "id": "f70230bf",
   "metadata": {},
   "outputs": [],
   "source": [
    "# The two column names that I need for both h2a and h2b are the sames name for all these sets.\n",
    "# they are: \"YEAR\", \"NBR_WORKERS_REQUESTED\", \"NBR_WORKERS_CERTIFIED\"\n",
    "\n",
    "# Found info using the .info on the df.\n",
    "\n",
    "col_list = [\"NBR_WORKERS_REQUESTED\", \"NBR_WORKERS_CERTIFIED\"]\n",
    "\n",
    "# 2019\n",
    "h2a_2019 = pd.read_excel (\"data/H-2A_Disclosure_Data_FY2019.xlsx\", usecols=col_list)\n",
    "h2b_2019 = pd.read_excel (\"data/H-2B_Disclosure_Data_FY2019.xlsx\", usecols=col_list)\n",
    "\n",
    "#2018\n",
    "h2a_2018 = pd.read_excel (\"data/H-2A_Disclosure_Data_FY2018.xlsx\", usecols=col_list)\n",
    "h2b_2018 = pd.read_excel (\"data/H-2B_Disclosure_Data_FY2018.xlsx\", usecols=col_list)\n",
    "\n",
    "#2017\n",
    "h2a_2017 = pd.read_excel (\"data/H-2A_Disclosure_Data_FY2017.xlsx\", usecols=col_list)\n",
    "h2b_2017 = pd.read_excel (\"data/H-2B_Disclosure_Data_FY2017.xlsx\", usecols=col_list)\n",
    "\n",
    "#2016\n",
    "h2a_2016 = pd.read_excel (\"data/H-2A_Disclosure_Data_FY2016.xlsx\", usecols=col_list)\n",
    "h2b_2016 = pd.read_excel (\"data/H-2B_Disclosure_Data_FY2016.xlsx\", usecols=col_list)\n",
    "\n",
    "#2015\n",
    "h2a_2015 = pd.read_excel (\"data/H-2A_Disclosure_Data_FY2015.xlsx\", usecols=col_list)\n",
    "h2b_2015 = pd.read_excel (\"data/H-2B_Disclosure_Data_FY2015.xlsx\", usecols=col_list)\n",
    "\n"
   ]
  },
  {
   "cell_type": "code",
   "execution_count": 81,
   "id": "3935711f",
   "metadata": {
    "scrolled": true
   },
   "outputs": [],
   "source": [
    "\n",
    "\n",
    "#I'm going to append a year column to all the dfs so we can combined them into 1\n",
    "\n",
    "#2019\n",
    "h2a_2019.insert(loc=0, column=\"YEAR\", value=\"2019\")\n",
    "h2b_2019.insert(loc=0, column=\"YEAR\", value=\"2019\")\n",
    "\n",
    "#2018\n",
    "h2a_2018.insert(loc=0, column=\"YEAR\", value=\"2018\") \n",
    "h2b_2018.insert(loc=0, column=\"YEAR\", value=\"2018\")\n",
    "\n",
    "#2017\n",
    "h2a_2017.insert(loc=0, column=\"YEAR\", value=\"2017\")\n",
    "h2b_2017.insert(loc=0, column=\"YEAR\", value=\"2017\")\n",
    "\n",
    "#2016\n",
    "h2a_2016.insert(loc=0, column=\"YEAR\", value=\"2016\")\n",
    "h2b_2016.insert(loc=0, column=\"YEAR\", value=\"2016\")\n",
    "\n",
    "#2015\n",
    "h2a_2015.insert(loc=0, column=\"YEAR\", value=\"2015\")\n",
    "h2b_2015.insert(loc=0, column=\"YEAR\", value=\"2015\")\n",
    "\n"
   ]
  },
  {
   "cell_type": "code",
   "execution_count": 82,
   "id": "8ba6a23f",
   "metadata": {},
   "outputs": [],
   "source": [
    "# combining all the h2a and h2b data\n",
    "h2a_2015to2019 = pd.concat([h2a_2015, h2a_2016, h2a_2017, h2a_2018, h2a_2019], ignore_index=True)\n",
    "h2b_2015to2019 = pd.concat([h2b_2015, h2b_2016, h2b_2017, h2b_2018, h2b_2019], ignore_index=True)\n",
    "\n",
    "# Converting float to int 1st column:\n",
    "h2a_2015to2019['NBR_WORKERS_REQUESTED'] = h2a_2015to2019['NBR_WORKERS_REQUESTED'].fillna(0).astype(int)\n",
    "h2a_2015to2019['NBR_WORKERS_CERTIFIED'] = h2a_2015to2019['NBR_WORKERS_CERTIFIED'].fillna(0).astype(int)\n",
    "\n",
    "h2b_2015to2019['NBR_WORKERS_REQUESTED'] = h2b_2015to2019['NBR_WORKERS_REQUESTED'].fillna(0).astype(int)\n",
    "h2b_2015to2019['NBR_WORKERS_CERTIFIED'] = h2b_2015to2019['NBR_WORKERS_CERTIFIED'].fillna(0).astype(int)\n"
   ]
  },
  {
   "cell_type": "code",
   "execution_count": 83,
   "id": "56689fcd",
   "metadata": {
    "scrolled": true
   },
   "outputs": [],
   "source": [
    "#RENAIMING COLUMNS\n",
    "\n",
    "h2a_2015to2019 = h2a_2015to2019.rename(columns={\"NBR_WORKERS_REQUESTED\": \"H-2A_WORKERS_REQUESTED\"})\n",
    "h2a_2015to2019 = h2a_2015to2019.rename(columns={\"NBR_WORKERS_CERTIFIED\": \"H-2A_WORKERS_CERTIFIED\"})\n"
   ]
  },
  {
   "cell_type": "code",
   "execution_count": 84,
   "id": "e3b112c0",
   "metadata": {},
   "outputs": [
    {
     "name": "stdout",
     "output_type": "stream",
     "text": [
      "<class 'pandas.core.frame.DataFrame'>\n",
      "RangeIndex: 65195 entries, 0 to 65194\n",
      "Data columns (total 3 columns):\n",
      " #   Column                  Non-Null Count  Dtype \n",
      "---  ------                  --------------  ----- \n",
      " 0   YEAR                    65195 non-null  object\n",
      " 1   H-2A_WORKERS_REQUESTED  65195 non-null  int64 \n",
      " 2   H-2A_WORKERS_CERTIFIED  65195 non-null  int64 \n",
      "dtypes: int64(2), object(1)\n",
      "memory usage: 1.5+ MB\n"
     ]
    }
   ],
   "source": [
    "h2a_2015to2019.info()"
   ]
  },
  {
   "cell_type": "code",
   "execution_count": 85,
   "id": "4dc4d2b4",
   "metadata": {},
   "outputs": [],
   "source": [
    "#RENAIMING COLUMNS\n",
    "\n",
    "h2b_2015to2019 = h2b_2015to2019.rename(columns={\"NBR_WORKERS_REQUESTED\": \"H-2B_WORKERS_REQUESTED\"})\n",
    "h2b_2015to2019 = h2b_2015to2019.rename(columns={\"NBR_WORKERS_CERTIFIED\": \"H-2B_WORKERS_CERTIFIED\"})"
   ]
  },
  {
   "cell_type": "code",
   "execution_count": 86,
   "id": "adb20f1d",
   "metadata": {
    "scrolled": false
   },
   "outputs": [
    {
     "name": "stdout",
     "output_type": "stream",
     "text": [
      "<class 'pandas.core.frame.DataFrame'>\n",
      "RangeIndex: 40838 entries, 0 to 40837\n",
      "Data columns (total 3 columns):\n",
      " #   Column                  Non-Null Count  Dtype \n",
      "---  ------                  --------------  ----- \n",
      " 0   YEAR                    40838 non-null  object\n",
      " 1   H-2B_WORKERS_REQUESTED  40838 non-null  int64 \n",
      " 2   H-2B_WORKERS_CERTIFIED  40838 non-null  int64 \n",
      "dtypes: int64(2), object(1)\n",
      "memory usage: 957.3+ KB\n"
     ]
    }
   ],
   "source": [
    "h2b_2015to2019.info()"
   ]
  },
  {
   "cell_type": "code",
   "execution_count": 87,
   "id": "15d86f62",
   "metadata": {
    "scrolled": true
   },
   "outputs": [
    {
     "name": "stdout",
     "output_type": "stream",
     "text": [
      "<class 'pandas.core.frame.DataFrame'>\n",
      "RangeIndex: 65195 entries, 0 to 65194\n",
      "Data columns (total 3 columns):\n",
      " #   Column                  Non-Null Count  Dtype \n",
      "---  ------                  --------------  ----- \n",
      " 0   YEAR                    65195 non-null  object\n",
      " 1   H-2A_WORKERS_REQUESTED  65195 non-null  int64 \n",
      " 2   H-2A_WORKERS_CERTIFIED  65195 non-null  int64 \n",
      "dtypes: int64(2), object(1)\n",
      "memory usage: 1.5+ MB\n"
     ]
    }
   ],
   "source": [
    "h2a_2015to2019.info()"
   ]
  },
  {
   "cell_type": "code",
   "execution_count": 88,
   "id": "8acba363",
   "metadata": {
    "scrolled": false
   },
   "outputs": [
    {
     "data": {
      "text/plain": [
       "YEAR                      2015201520152015201520152015201520152015201520...\n",
       "H-2A_WORKERS_REQUESTED                                              1158906\n",
       "H-2A_WORKERS_CERTIFIED                                              1117398\n",
       "dtype: object"
      ]
     },
     "execution_count": 88,
     "metadata": {},
     "output_type": "execute_result"
    }
   ],
   "source": [
    "h2a_2015to2019.sum(axis=0)"
   ]
  },
  {
   "cell_type": "code",
   "execution_count": 89,
   "id": "9fd127c8",
   "metadata": {},
   "outputs": [
    {
     "name": "stdout",
     "output_type": "stream",
     "text": [
      "<class 'pandas.core.frame.DataFrame'>\n",
      "RangeIndex: 65195 entries, 0 to 65194\n",
      "Data columns (total 3 columns):\n",
      " #   Column                  Non-Null Count  Dtype \n",
      "---  ------                  --------------  ----- \n",
      " 0   YEAR                    65195 non-null  object\n",
      " 1   H-2A_WORKERS_REQUESTED  65195 non-null  int64 \n",
      " 2   H-2A_WORKERS_CERTIFIED  65195 non-null  int64 \n",
      "dtypes: int64(2), object(1)\n",
      "memory usage: 1.5+ MB\n"
     ]
    }
   ],
   "source": [
    "h2a_2015to2019.info()"
   ]
  },
  {
   "cell_type": "code",
   "execution_count": 90,
   "id": "f54ae693",
   "metadata": {},
   "outputs": [
    {
     "data": {
      "text/html": [
       "<div>\n",
       "<style scoped>\n",
       "    .dataframe tbody tr th:only-of-type {\n",
       "        vertical-align: middle;\n",
       "    }\n",
       "\n",
       "    .dataframe tbody tr th {\n",
       "        vertical-align: top;\n",
       "    }\n",
       "\n",
       "    .dataframe thead th {\n",
       "        text-align: right;\n",
       "    }\n",
       "</style>\n",
       "<table border=\"1\" class=\"dataframe\">\n",
       "  <thead>\n",
       "    <tr style=\"text-align: right;\">\n",
       "      <th></th>\n",
       "      <th>H-2A_WORKERS_CERTIFIED</th>\n",
       "      <th>H-2A_WORKERS_REQUESTED</th>\n",
       "    </tr>\n",
       "    <tr>\n",
       "      <th>YEAR</th>\n",
       "      <th></th>\n",
       "      <th></th>\n",
       "    </tr>\n",
       "  </thead>\n",
       "  <tbody>\n",
       "    <tr>\n",
       "      <th>2015</th>\n",
       "      <td>162720</td>\n",
       "      <td>168894</td>\n",
       "    </tr>\n",
       "    <tr>\n",
       "      <th>2016</th>\n",
       "      <td>190156</td>\n",
       "      <td>197570</td>\n",
       "    </tr>\n",
       "    <tr>\n",
       "      <th>2017</th>\n",
       "      <td>224975</td>\n",
       "      <td>232704</td>\n",
       "    </tr>\n",
       "    <tr>\n",
       "      <th>2018</th>\n",
       "      <td>262736</td>\n",
       "      <td>271713</td>\n",
       "    </tr>\n",
       "    <tr>\n",
       "      <th>2019</th>\n",
       "      <td>276811</td>\n",
       "      <td>288025</td>\n",
       "    </tr>\n",
       "  </tbody>\n",
       "</table>\n",
       "</div>"
      ],
      "text/plain": [
       "      H-2A_WORKERS_CERTIFIED  H-2A_WORKERS_REQUESTED\n",
       "YEAR                                                \n",
       "2015                  162720                  168894\n",
       "2016                  190156                  197570\n",
       "2017                  224975                  232704\n",
       "2018                  262736                  271713\n",
       "2019                  276811                  288025"
      ]
     },
     "execution_count": 90,
     "metadata": {},
     "output_type": "execute_result"
    }
   ],
   "source": [
    "pivot1 = pd.pivot_table(h2a_2015to2019, index= \"YEAR\", aggfunc=\"sum\")\n",
    "\n",
    "pivot1"
   ]
  },
  {
   "cell_type": "code",
   "execution_count": 92,
   "id": "0887ffef",
   "metadata": {},
   "outputs": [
    {
     "data": {
      "text/html": [
       "<div>\n",
       "<style scoped>\n",
       "    .dataframe tbody tr th:only-of-type {\n",
       "        vertical-align: middle;\n",
       "    }\n",
       "\n",
       "    .dataframe tbody tr th {\n",
       "        vertical-align: top;\n",
       "    }\n",
       "\n",
       "    .dataframe thead th {\n",
       "        text-align: right;\n",
       "    }\n",
       "</style>\n",
       "<table border=\"1\" class=\"dataframe\">\n",
       "  <thead>\n",
       "    <tr style=\"text-align: right;\">\n",
       "      <th></th>\n",
       "      <th>YEAR</th>\n",
       "      <th>H-2A_WORKERS_REQUESTED</th>\n",
       "      <th>H-2A_WORKERS_CERTIFIED</th>\n",
       "      <th>H-2B_WORKERS_REQUESTED</th>\n",
       "      <th>H-2B_WORKERS_CERTIFIED</th>\n",
       "    </tr>\n",
       "  </thead>\n",
       "  <tbody>\n",
       "    <tr>\n",
       "      <th>0</th>\n",
       "      <td>2015</td>\n",
       "      <td>4.0</td>\n",
       "      <td>4.0</td>\n",
       "      <td>NaN</td>\n",
       "      <td>NaN</td>\n",
       "    </tr>\n",
       "    <tr>\n",
       "      <th>1</th>\n",
       "      <td>2015</td>\n",
       "      <td>6.0</td>\n",
       "      <td>6.0</td>\n",
       "      <td>NaN</td>\n",
       "      <td>NaN</td>\n",
       "    </tr>\n",
       "    <tr>\n",
       "      <th>2</th>\n",
       "      <td>2015</td>\n",
       "      <td>4.0</td>\n",
       "      <td>4.0</td>\n",
       "      <td>NaN</td>\n",
       "      <td>NaN</td>\n",
       "    </tr>\n",
       "    <tr>\n",
       "      <th>3</th>\n",
       "      <td>2015</td>\n",
       "      <td>3.0</td>\n",
       "      <td>3.0</td>\n",
       "      <td>NaN</td>\n",
       "      <td>NaN</td>\n",
       "    </tr>\n",
       "    <tr>\n",
       "      <th>4</th>\n",
       "      <td>2015</td>\n",
       "      <td>4.0</td>\n",
       "      <td>4.0</td>\n",
       "      <td>NaN</td>\n",
       "      <td>NaN</td>\n",
       "    </tr>\n",
       "    <tr>\n",
       "      <th>...</th>\n",
       "      <td>...</td>\n",
       "      <td>...</td>\n",
       "      <td>...</td>\n",
       "      <td>...</td>\n",
       "      <td>...</td>\n",
       "    </tr>\n",
       "    <tr>\n",
       "      <th>106028</th>\n",
       "      <td>2019</td>\n",
       "      <td>NaN</td>\n",
       "      <td>NaN</td>\n",
       "      <td>500.0</td>\n",
       "      <td>0.0</td>\n",
       "    </tr>\n",
       "    <tr>\n",
       "      <th>106029</th>\n",
       "      <td>2019</td>\n",
       "      <td>NaN</td>\n",
       "      <td>NaN</td>\n",
       "      <td>4.0</td>\n",
       "      <td>0.0</td>\n",
       "    </tr>\n",
       "    <tr>\n",
       "      <th>106030</th>\n",
       "      <td>2019</td>\n",
       "      <td>NaN</td>\n",
       "      <td>NaN</td>\n",
       "      <td>12.0</td>\n",
       "      <td>0.0</td>\n",
       "    </tr>\n",
       "    <tr>\n",
       "      <th>106031</th>\n",
       "      <td>2019</td>\n",
       "      <td>NaN</td>\n",
       "      <td>NaN</td>\n",
       "      <td>10.0</td>\n",
       "      <td>0.0</td>\n",
       "    </tr>\n",
       "    <tr>\n",
       "      <th>106032</th>\n",
       "      <td>2019</td>\n",
       "      <td>NaN</td>\n",
       "      <td>NaN</td>\n",
       "      <td>650.0</td>\n",
       "      <td>0.0</td>\n",
       "    </tr>\n",
       "  </tbody>\n",
       "</table>\n",
       "<p>106033 rows × 5 columns</p>\n",
       "</div>"
      ],
      "text/plain": [
       "        YEAR  H-2A_WORKERS_REQUESTED  H-2A_WORKERS_CERTIFIED  \\\n",
       "0       2015                     4.0                     4.0   \n",
       "1       2015                     6.0                     6.0   \n",
       "2       2015                     4.0                     4.0   \n",
       "3       2015                     3.0                     3.0   \n",
       "4       2015                     4.0                     4.0   \n",
       "...      ...                     ...                     ...   \n",
       "106028  2019                     NaN                     NaN   \n",
       "106029  2019                     NaN                     NaN   \n",
       "106030  2019                     NaN                     NaN   \n",
       "106031  2019                     NaN                     NaN   \n",
       "106032  2019                     NaN                     NaN   \n",
       "\n",
       "        H-2B_WORKERS_REQUESTED  H-2B_WORKERS_CERTIFIED  \n",
       "0                          NaN                     NaN  \n",
       "1                          NaN                     NaN  \n",
       "2                          NaN                     NaN  \n",
       "3                          NaN                     NaN  \n",
       "4                          NaN                     NaN  \n",
       "...                        ...                     ...  \n",
       "106028                   500.0                     0.0  \n",
       "106029                     4.0                     0.0  \n",
       "106030                    12.0                     0.0  \n",
       "106031                    10.0                     0.0  \n",
       "106032                   650.0                     0.0  \n",
       "\n",
       "[106033 rows x 5 columns]"
      ]
     },
     "execution_count": 92,
     "metadata": {},
     "output_type": "execute_result"
    }
   ],
   "source": [
    "#Lets combine both visas here for the range:\n",
    "\n",
    "h2ab_2015to2019 = pd.concat([h2a_2015to2019, h2b_2015to2019], ignore_index=True)\n",
    "\n",
    "h2ab_2015to2019"
   ]
  },
  {
   "cell_type": "code",
   "execution_count": 102,
   "id": "14e8cc3c",
   "metadata": {},
   "outputs": [
    {
     "data": {
      "text/html": [
       "<div>\n",
       "<style scoped>\n",
       "    .dataframe tbody tr th:only-of-type {\n",
       "        vertical-align: middle;\n",
       "    }\n",
       "\n",
       "    .dataframe tbody tr th {\n",
       "        vertical-align: top;\n",
       "    }\n",
       "\n",
       "    .dataframe thead th {\n",
       "        text-align: right;\n",
       "    }\n",
       "</style>\n",
       "<table border=\"1\" class=\"dataframe\">\n",
       "  <thead>\n",
       "    <tr style=\"text-align: right;\">\n",
       "      <th></th>\n",
       "      <th>YEAR</th>\n",
       "      <th>H-2A_WORKERS_REQUESTED</th>\n",
       "      <th>H-2A_WORKERS_CERTIFIED</th>\n",
       "      <th>H-2B_WORKERS_REQUESTED</th>\n",
       "      <th>H-2B_WORKERS_CERTIFIED</th>\n",
       "      <th>H-2A_WORKERS_NEEDED</th>\n",
       "    </tr>\n",
       "  </thead>\n",
       "  <tbody>\n",
       "    <tr>\n",
       "      <th>171846</th>\n",
       "      <td>2022</td>\n",
       "      <td>NaN</td>\n",
       "      <td>NaN</td>\n",
       "      <td>27</td>\n",
       "      <td>27</td>\n",
       "      <td>0</td>\n",
       "    </tr>\n",
       "    <tr>\n",
       "      <th>8441</th>\n",
       "      <td>2015</td>\n",
       "      <td>4</td>\n",
       "      <td>0</td>\n",
       "      <td>NaN</td>\n",
       "      <td>NaN</td>\n",
       "      <td>NaN</td>\n",
       "    </tr>\n",
       "    <tr>\n",
       "      <th>140670</th>\n",
       "      <td>2022</td>\n",
       "      <td>8</td>\n",
       "      <td>8</td>\n",
       "      <td>NaN</td>\n",
       "      <td>NaN</td>\n",
       "      <td>8</td>\n",
       "    </tr>\n",
       "    <tr>\n",
       "      <th>164107</th>\n",
       "      <td>2021</td>\n",
       "      <td>NaN</td>\n",
       "      <td>NaN</td>\n",
       "      <td>2</td>\n",
       "      <td>2</td>\n",
       "      <td>0</td>\n",
       "    </tr>\n",
       "    <tr>\n",
       "      <th>72355</th>\n",
       "      <td>2016</td>\n",
       "      <td>NaN</td>\n",
       "      <td>NaN</td>\n",
       "      <td>10</td>\n",
       "      <td>10</td>\n",
       "      <td>NaN</td>\n",
       "    </tr>\n",
       "    <tr>\n",
       "      <th>74332</th>\n",
       "      <td>2016</td>\n",
       "      <td>NaN</td>\n",
       "      <td>NaN</td>\n",
       "      <td>5</td>\n",
       "      <td>5</td>\n",
       "      <td>NaN</td>\n",
       "    </tr>\n",
       "    <tr>\n",
       "      <th>179051</th>\n",
       "      <td>2022</td>\n",
       "      <td>NaN</td>\n",
       "      <td>NaN</td>\n",
       "      <td>9</td>\n",
       "      <td>9</td>\n",
       "      <td>0</td>\n",
       "    </tr>\n",
       "    <tr>\n",
       "      <th>15969</th>\n",
       "      <td>2016</td>\n",
       "      <td>6</td>\n",
       "      <td>6</td>\n",
       "      <td>NaN</td>\n",
       "      <td>NaN</td>\n",
       "      <td>NaN</td>\n",
       "    </tr>\n",
       "    <tr>\n",
       "      <th>84822</th>\n",
       "      <td>2017</td>\n",
       "      <td>NaN</td>\n",
       "      <td>NaN</td>\n",
       "      <td>10</td>\n",
       "      <td>10</td>\n",
       "      <td>NaN</td>\n",
       "    </tr>\n",
       "    <tr>\n",
       "      <th>86754</th>\n",
       "      <td>2017</td>\n",
       "      <td>NaN</td>\n",
       "      <td>NaN</td>\n",
       "      <td>40</td>\n",
       "      <td>40</td>\n",
       "      <td>NaN</td>\n",
       "    </tr>\n",
       "  </tbody>\n",
       "</table>\n",
       "</div>"
      ],
      "text/plain": [
       "        YEAR  H-2A_WORKERS_REQUESTED  H-2A_WORKERS_CERTIFIED  \\\n",
       "171846  2022                     NaN                     NaN   \n",
       "8441    2015                       4                       0   \n",
       "140670  2022                       8                       8   \n",
       "164107  2021                     NaN                     NaN   \n",
       "72355   2016                     NaN                     NaN   \n",
       "74332   2016                     NaN                     NaN   \n",
       "179051  2022                     NaN                     NaN   \n",
       "15969   2016                       6                       6   \n",
       "84822   2017                     NaN                     NaN   \n",
       "86754   2017                     NaN                     NaN   \n",
       "\n",
       "        H-2B_WORKERS_REQUESTED  H-2B_WORKERS_CERTIFIED  H-2A_WORKERS_NEEDED  \n",
       "171846                      27                      27                    0  \n",
       "8441                       NaN                     NaN                  NaN  \n",
       "140670                     NaN                     NaN                    8  \n",
       "164107                       2                       2                    0  \n",
       "72355                       10                      10                  NaN  \n",
       "74332                        5                       5                  NaN  \n",
       "179051                       9                       9                    0  \n",
       "15969                      NaN                     NaN                  NaN  \n",
       "84822                       10                      10                  NaN  \n",
       "86754                       40                      40                  NaN  "
      ]
     },
     "execution_count": 102,
     "metadata": {},
     "output_type": "execute_result"
    }
   ],
   "source": [
    "#Lets combine ALL visas here for the range 2015 to 2022:\n",
    "\n",
    "h2ab_2015to2022 = pd.concat([h2ab_2015to2019, h2ab_2020to2022], ignore_index=True)\n",
    "\n",
    "pd.set_option('precision', 0)\n",
    "\n",
    "h2ab_2015to2022['H-2A_WORKERS_NEEDED'] = h2ab_2015to2022['H-2A_WORKERS_NEEDED'].astype(float, errors = 'raise')\n",
    "\n",
    "\n",
    "h2ab_2015to2022.sample(10)"
   ]
  },
  {
   "cell_type": "markdown",
   "id": "371d6f19",
   "metadata": {},
   "source": [
    "# RESULT:"
   ]
  },
  {
   "cell_type": "markdown",
   "id": "7ae43042",
   "metadata": {},
   "source": [
    " # United States Guest Worker Program from 2015 to 2022\n",
    " The table and graph show the numbers for the Guest Worker Program starting in 2015 and ending in the current quarter of 2022. It shows the continued expansion over the years."
   ]
  },
  {
   "cell_type": "code",
   "execution_count": 104,
   "id": "383c3c5c",
   "metadata": {},
   "outputs": [
    {
     "data": {
      "text/html": [
       "<div>\n",
       "<style scoped>\n",
       "    .dataframe tbody tr th:only-of-type {\n",
       "        vertical-align: middle;\n",
       "    }\n",
       "\n",
       "    .dataframe tbody tr th {\n",
       "        vertical-align: top;\n",
       "    }\n",
       "\n",
       "    .dataframe thead th {\n",
       "        text-align: right;\n",
       "    }\n",
       "</style>\n",
       "<table border=\"1\" class=\"dataframe\">\n",
       "  <thead>\n",
       "    <tr style=\"text-align: right;\">\n",
       "      <th></th>\n",
       "      <th>H-2A_WORKERS_CERTIFIED</th>\n",
       "      <th>H-2A_WORKERS_NEEDED</th>\n",
       "      <th>H-2A_WORKERS_REQUESTED</th>\n",
       "      <th>H-2B_WORKERS_CERTIFIED</th>\n",
       "      <th>H-2B_WORKERS_REQUESTED</th>\n",
       "    </tr>\n",
       "    <tr>\n",
       "      <th>YEAR</th>\n",
       "      <th></th>\n",
       "      <th></th>\n",
       "      <th></th>\n",
       "      <th></th>\n",
       "      <th></th>\n",
       "    </tr>\n",
       "  </thead>\n",
       "  <tbody>\n",
       "    <tr>\n",
       "      <th>2015</th>\n",
       "      <td>162720</td>\n",
       "      <td>0</td>\n",
       "      <td>168894</td>\n",
       "      <td>101765</td>\n",
       "      <td>126138</td>\n",
       "    </tr>\n",
       "    <tr>\n",
       "      <th>2016</th>\n",
       "      <td>190156</td>\n",
       "      <td>0</td>\n",
       "      <td>197570</td>\n",
       "      <td>119232</td>\n",
       "      <td>143311</td>\n",
       "    </tr>\n",
       "    <tr>\n",
       "      <th>2017</th>\n",
       "      <td>224975</td>\n",
       "      <td>0</td>\n",
       "      <td>232704</td>\n",
       "      <td>133985</td>\n",
       "      <td>165184</td>\n",
       "    </tr>\n",
       "    <tr>\n",
       "      <th>2018</th>\n",
       "      <td>262736</td>\n",
       "      <td>0</td>\n",
       "      <td>271713</td>\n",
       "      <td>147592</td>\n",
       "      <td>195686</td>\n",
       "    </tr>\n",
       "    <tr>\n",
       "      <th>2019</th>\n",
       "      <td>276811</td>\n",
       "      <td>0</td>\n",
       "      <td>288025</td>\n",
       "      <td>150465</td>\n",
       "      <td>191762</td>\n",
       "    </tr>\n",
       "    <tr>\n",
       "      <th>2020</th>\n",
       "      <td>275430</td>\n",
       "      <td>314028</td>\n",
       "      <td>286749</td>\n",
       "      <td>160557</td>\n",
       "      <td>188564</td>\n",
       "    </tr>\n",
       "    <tr>\n",
       "      <th>2021</th>\n",
       "      <td>317619</td>\n",
       "      <td>411339</td>\n",
       "      <td>330486</td>\n",
       "      <td>181451</td>\n",
       "      <td>206011</td>\n",
       "    </tr>\n",
       "    <tr>\n",
       "      <th>2022</th>\n",
       "      <td>244880</td>\n",
       "      <td>310835</td>\n",
       "      <td>254466</td>\n",
       "      <td>132686</td>\n",
       "      <td>164821</td>\n",
       "    </tr>\n",
       "  </tbody>\n",
       "</table>\n",
       "</div>"
      ],
      "text/plain": [
       "      H-2A_WORKERS_CERTIFIED  H-2A_WORKERS_NEEDED  H-2A_WORKERS_REQUESTED  \\\n",
       "YEAR                                                                        \n",
       "2015                  162720                    0                  168894   \n",
       "2016                  190156                    0                  197570   \n",
       "2017                  224975                    0                  232704   \n",
       "2018                  262736                    0                  271713   \n",
       "2019                  276811                    0                  288025   \n",
       "2020                  275430               314028                  286749   \n",
       "2021                  317619               411339                  330486   \n",
       "2022                  244880               310835                  254466   \n",
       "\n",
       "      H-2B_WORKERS_CERTIFIED  H-2B_WORKERS_REQUESTED  \n",
       "YEAR                                                  \n",
       "2015                  101765                  126138  \n",
       "2016                  119232                  143311  \n",
       "2017                  133985                  165184  \n",
       "2018                  147592                  195686  \n",
       "2019                  150465                  191762  \n",
       "2020                  160557                  188564  \n",
       "2021                  181451                  206011  \n",
       "2022                  132686                  164821  "
      ]
     },
     "execution_count": 104,
     "metadata": {},
     "output_type": "execute_result"
    }
   ],
   "source": [
    "# Here all the data is combined for all the years into a pivot table:\n",
    "\n",
    "pivot_h2ab_2015to2022 = pd.pivot_table(h2ab_2015to2022, index= \"YEAR\", aggfunc=\"sum\")\n",
    "\n",
    "\n",
    "pivot_h2ab_2015to2022"
   ]
  },
  {
   "cell_type": "code",
   "execution_count": 100,
   "id": "1cfdc21c",
   "metadata": {},
   "outputs": [
    {
     "data": {
      "text/plain": [
       "<AxesSubplot:ylabel='YEAR'>"
      ]
     },
     "execution_count": 100,
     "metadata": {},
     "output_type": "execute_result"
    },
    {
     "data": {
      "image/png": "[encoded data removed]",
      "text/plain": [
       "<Figure size 432x288 with 1 Axes>"
      ]
     },
     "metadata": {
      "needs_background": "light"
     },
     "output_type": "display_data"
    }
   ],
   "source": [
    "# Fianlly lets visualize the data:\n",
    "\n",
    "pivot_h2ab_2015to2022.plot(kind=\"barh\")"
   ]
  },
  {
   "cell_type": "markdown",
   "id": "247ab38c",
   "metadata": {},
   "source": [
    "#### H-2A = Temporary Agricultural Guest Workers\n",
    "#### H-2B = Temporary Non-Agricultural Guest Workers\n",
    "\n",
    "Federal Fiscal Year = October 1 to September 30\n",
    "\n",
    "<bold>2020:</bold> This year the Department of Labor started tracking the \"Workers Needed\" as part of the Guest Worker Program.\n",
    "\n",
    "H-2A_WORKERS_NEEDED: This started to be tracked in the year 2020 by the Department of Labor. "
   ]
  },
  {
   "cell_type": "markdown",
   "id": "af95b3a8",
   "metadata": {},
   "source": [
    "### Will there be an increased demand this year for temporary guest workers in the US? \n",
    "\n",
    "Labor shortage reports and a recent addition to temporary guest worker visas by the Biden Administration are signs that there will be an increase of foreign guest workers admitted to the U.S. to satisfy seasonal work vacancies, both in the agricultural and non-agricultural labor sectors.\n",
    "\n",
    "There has been a steady increase in the number of temporary guest workers in the past few years. This included the period of the Trump Administration, which notoriously had a very caustic rhetoric about immigrants and people coming into the U.S. The year 2020 was the only year that saw a small contraction from the previous year which was due to the pandemic. But 2021 saw the biggest increase in the number of laborers needed.\n",
    "\n",
    "Looking at the numbers from this year that have been published from the first 2 quarters, it appears we are headed for another record year in the number of guest workers being added to the U.S. labor force. \n",
    " \n",
    "\n"
   ]
  },
  {
   "cell_type": "code",
   "execution_count": null,
   "id": "86c7b4df",
   "metadata": {},
   "outputs": [],
   "source": []
  }
 ],
 "metadata": {
  "kernelspec": {
   "display_name": "Python 3 (ipykernel)",
   "language": "python",
   "name": "python3"
  },
  "language_info": {
   "codemirror_mode": {
    "name": "ipython",
    "version": 3
   },
   "file_extension": ".py",
   "mimetype": "text/x-python",
   "name": "python",
   "nbconvert_exporter": "python",
   "pygments_lexer": "ipython3",
   "version": "3.9.7"
  }
 },
 "nbformat": 4,
 "nbformat_minor": 5
}
